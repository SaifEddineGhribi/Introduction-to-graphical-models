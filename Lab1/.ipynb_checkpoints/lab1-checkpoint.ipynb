{
 "cells": [
  {
   "cell_type": "markdown",
   "metadata": {
    "colab_type": "text",
    "id": "cuDjWrBXtQXS"
   },
   "source": [
    "# Introduction to Probabilistic Graphical Models\n",
    "\n",
    "# Practical Session I\n",
    "\n",
    "**GOMEZ Enrique - GHRIBI Saife Eddine**"
   ]
  },
  {
   "cell_type": "code",
   "execution_count": 0,
   "metadata": {
    "colab": {},
    "colab_type": "code",
    "id": "LeSWgc2Zeylv"
   },
   "outputs": [],
   "source": [
    "import numpy as np "
   ]
  },
  {
   "cell_type": "markdown",
   "metadata": {
    "colab_type": "text",
    "id": "JYgw8PnymI07"
   },
   "source": [
    "## Question 0\n",
    "\n",
    "We implemented this function in order to avoid NaN when finding the log of a sum of exponentials."
   ]
  },
  {
   "cell_type": "code",
   "execution_count": 0,
   "metadata": {
    "colab": {},
    "colab_type": "code",
    "id": "777yJodPfC3h"
   },
   "outputs": [],
   "source": [
    "def logsumexp(v):\n",
    "  v_max=max(v)\n",
    "  return  v_max+np.log(np.sum([np.exp(i- v_max )for i in v]))"
   ]
  },
  {
   "cell_type": "code",
   "execution_count": 306,
   "metadata": {
    "colab": {
     "base_uri": "https://localhost:8080/",
     "height": 33
    },
    "colab_type": "code",
    "id": "MdzgZMm5fqvC",
    "outputId": "d2975db7-88ca-4b32-97df-22a9f1176f92"
   },
   "outputs": [
    {
     "data": {
      "text/plain": [
       "-1233.6867383124818"
      ]
     },
     "execution_count": 306,
     "metadata": {
      "tags": []
     },
     "output_type": "execute_result"
    }
   ],
   "source": [
    "logsumexp([-1234,-1235])"
   ]
  },
  {
   "cell_type": "markdown",
   "metadata": {
    "colab_type": "text",
    "id": "WqBi6cMemMFO"
   },
   "source": [
    "## Question  1"
   ]
  },
  {
   "cell_type": "markdown",
   "metadata": {
    "colab_type": "text",
    "id": "T-5acjSdla1G"
   },
   "source": [
    "Let { $X_k: k \\in \\mathbb{N}$ } be a sequence of random variables representing  the position of the robot at time k, whose domain is [1,..,N].\n",
    "<br> \n",
    "Let { $Y_k: k \\in \\mathbb{N}$ } be a sequence of random variables representing the noisy observations of the position of the robot, whose domain is [1,..,N].\n",
    "<br> \n",
    "\n",
    "The following image represents the generative model of our variables. As every observation dependends only on the respective position and every position depends only on the last one, this is a HMM."
   ]
  },
  {
   "cell_type": "markdown",
   "metadata": {
    "colab_type": "text",
    "id": "jp0gP5B_m86x"
   },
   "source": [
    "<img src=\"data:image/png;base64,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\" alt=\"graph.png\" style=\"max-width:100%;\">"
   ]
  },
  {
   "cell_type": "markdown",
   "metadata": {
    "colab_type": "text",
    "id": "ngpetmm1sBh2"
   },
   "source": [
    "## Question 2\n",
    "\n"
   ]
  },
  {
   "cell_type": "markdown",
   "metadata": {
    "colab_type": "text",
    "id": "BD2VWF8uFKU7"
   },
   "source": [
    "Let { $X_k: k \\in \\mathbb{N}$ } be a suite of random variables representing   the position of the robot at time k, whose domain is [1,..,N] \n",
    "<br> \n",
    "Let { $Y_k: k \\in \\mathbb{N}$ } be a suite of random variables representing the noisy observations of $X_K$, whose a domain is [1,..,N] \n",
    "<br> \n",
    "The observation probability is as follows : <br> $$ \\mathbb{P}(y_n|x_n)= w\\delta(y_n-x_n)+ (1-w)U\\{1,..,N\\} $$\n",
    "<br>  with <br>  $\\delta$(a)= 1  if a=0 and 0 otherwise\n",
    "\n",
    "We have also $$ \\mathbb{P}(X_{k+1}=j+1|X_k=j)=1-\\epsilon$$ , $$ \\mathbb{P}(X_{k+1}=j|X_k=j)=\\epsilon   \\ \\ \\        \\forall j \\in \\{1,..,N-1\\}$$ and if  $j=N$ then $j+1 =1 $\n",
    "\n",
    "\n",
    "Particularly $$ \\mathbb{P}(X_1=j)=\\frac{1}{N}  \\ \\        \\forall j \\in \\{1,..,N\\}$$"
   ]
  },
  {
   "cell_type": "markdown",
   "metadata": {
    "colab_type": "text",
    "id": "qQShaYT3FP-G"
   },
   "source": [
    "### Transtion Table \n",
    "\n",
    "We coded a function which generates a transition matrix where each element $T_{ij} = \\mathbb{P}(X_k = j|X_{k-1} = i)$. The elements of each column add 1. So this is a stochastic matrix."
   ]
  },
  {
   "cell_type": "code",
   "execution_count": 0,
   "metadata": {
    "colab": {},
    "colab_type": "code",
    "id": "Nu65cy3Or9fI"
   },
   "outputs": [],
   "source": [
    "def transition_table(N,epsilon): \n",
    "  M=.0*np.eye(N)\n",
    "  for i in range (N-1): \n",
    "    if (i+1 <= N-1 ):\n",
    "      M[i+1,i]=1- epsilon \n",
    "      M[i,i]=epsilon \n",
    "  M[0,N-1]=1-epsilon\n",
    "  M[N-1,N-1]=epsilon    \n",
    "  return M\n",
    "\n"
   ]
  },
  {
   "cell_type": "code",
   "execution_count": 308,
   "metadata": {
    "colab": {
     "base_uri": "https://localhost:8080/",
     "height": 180
    },
    "colab_type": "code",
    "id": "PB9_3ecnsHXA",
    "outputId": "192a075a-930b-45d1-bb5f-aa91c28c54d6"
   },
   "outputs": [
    {
     "name": "stdout",
     "output_type": "stream",
     "text": [
      "[[0.3 0.  0.  0.  0.  0.  0.  0.  0.  0.7]\n",
      " [0.7 0.3 0.  0.  0.  0.  0.  0.  0.  0. ]\n",
      " [0.  0.7 0.3 0.  0.  0.  0.  0.  0.  0. ]\n",
      " [0.  0.  0.7 0.3 0.  0.  0.  0.  0.  0. ]\n",
      " [0.  0.  0.  0.7 0.3 0.  0.  0.  0.  0. ]\n",
      " [0.  0.  0.  0.  0.7 0.3 0.  0.  0.  0. ]\n",
      " [0.  0.  0.  0.  0.  0.7 0.3 0.  0.  0. ]\n",
      " [0.  0.  0.  0.  0.  0.  0.7 0.3 0.  0. ]\n",
      " [0.  0.  0.  0.  0.  0.  0.  0.7 0.3 0. ]\n",
      " [0.  0.  0.  0.  0.  0.  0.  0.  0.7 0.3]]\n"
     ]
    }
   ],
   "source": [
    "# Example for  N = 10 and epsilon = 0.3 \n",
    "trans=transition_table(10,0.3)\n",
    "print (trans)"
   ]
  },
  {
   "cell_type": "markdown",
   "metadata": {
    "colab_type": "text",
    "id": "KqnljGrFYTZg"
   },
   "source": [
    "### Generative table\n",
    "\n",
    "We coded a function which generates a generative matrix where each element $G_{ij} = \\mathbb{P}(Y_k = j|X_{k} = i)$. The elements of each column add 1. So this is a stochastic matrix."
   ]
  },
  {
   "cell_type": "code",
   "execution_count": 0,
   "metadata": {
    "colab": {},
    "colab_type": "code",
    "id": "ELAYFRDZsI74"
   },
   "outputs": [],
   "source": [
    "def generative_table(N,w): \n",
    "  M=np.eye(N)\n",
    "  for i in range (N) : \n",
    "    for j in range (N): \n",
    "      if (i==j):\n",
    "        M[i,j]=w\n",
    "      else : \n",
    "        M[i,j]= (1-w)/(N-1)\n",
    "  return M"
   ]
  },
  {
   "cell_type": "code",
   "execution_count": 310,
   "metadata": {
    "colab": {
     "base_uri": "https://localhost:8080/",
     "height": 115
    },
    "colab_type": "code",
    "id": "dsfu1xA3sLch",
    "outputId": "8ea3bf8f-76de-4c17-f5b9-68513023c1fb"
   },
   "outputs": [
    {
     "name": "stdout",
     "output_type": "stream",
     "text": [
      "[[0.8  0.04 0.04 0.04 0.04 0.04]\n",
      " [0.04 0.8  0.04 0.04 0.04 0.04]\n",
      " [0.04 0.04 0.8  0.04 0.04 0.04]\n",
      " [0.04 0.04 0.04 0.8  0.04 0.04]\n",
      " [0.04 0.04 0.04 0.04 0.8  0.04]\n",
      " [0.04 0.04 0.04 0.04 0.04 0.8 ]]\n"
     ]
    }
   ],
   "source": [
    "#Example for N=5 and W=0.2\n",
    "gen=generative_table(6,0.8)\n",
    "print (gen )"
   ]
  },
  {
   "cell_type": "markdown",
   "metadata": {
    "colab_type": "text",
    "id": "LtHL408-GIeD"
   },
   "source": [
    "## Question 3\n",
    "\n",
    "1. Distribution of the robot’s current position given the observations so far\n",
    "$$ p(x_m|y_{0:m})$$\n",
    "2. Distribution of the robot’s position at time step k given all the observations\n",
    "$$ p(x_k|y_{0:m})$$\n",
    "3. Distribution of the robot’s next position given the observations so far\n",
    "$$ p(x_{m+1}|y_{0:m})$$\n",
    "4. Distribution of the robot’s next sensor reading given the observations so far\n",
    "$$ p(y_{m+1}|y_{0:m})$$\n",
    "5. Distribution of the robot’s initial position given observations so far\n",
    "$$ p(x_0|y_{0:m})$$\n",
    "6. Most likely current position of the robot given the observations so far\n",
    "$$ \\underset{x \\in \\{1:N\\}}{\\mathrm{argmax}}{p(x_m|y_{0:m})}$$\n",
    "7. Most likely trajectory taken by the robot from the start until now given the observations so far.\n",
    "$$ \\underset{x \\in \\{1:N\\}^{m+1}}{\\mathrm{argmax}}{p(x_{0:m}|y_{0:m})}$$"
   ]
  },
  {
   "cell_type": "markdown",
   "metadata": {
    "colab_type": "text",
    "id": "LYgvtKxf9fQb"
   },
   "source": [
    "## Question 4"
   ]
  },
  {
   "cell_type": "code",
   "execution_count": 0,
   "metadata": {
    "colab": {},
    "colab_type": "code",
    "id": "z2iY8lhHDK3E"
   },
   "outputs": [],
   "source": [
    "def gen_scenario(N,epsilon,w,k, verbose = False):\n",
    "  # scenario : list to contain the (x_i,y_i) the position and the observation of every step \n",
    "  scenario = []\n",
    "  #choose randomly the first position  \n",
    "  x = np.random.randint(low=1,high = N)\n",
    "  \n",
    "  for i in range (k): \n",
    "    if (verbose): print (\"Step : \"+str(i+1))\n",
    "    # x_bin is a binary variable that shows if the robot will advance or not\n",
    "    if (i != 0):\n",
    "        x_bin = np.random.choice([0,1],1, replace=False, p=[epsilon,1-epsilon])[0]\n",
    "        if (x_bin == 1): \n",
    "          if (x+1 >= N+1):\n",
    "            x_new = 1\n",
    "          else :\n",
    "            x_new = x+1   \n",
    "          if (verbose): print (\"- > pos=\"+str(x_new) + \" (Moves)\")\n",
    "          x = x_new\n",
    "        else :\n",
    "          if (verbose): print (\"- > pos=\"+str(x)+ \" (Stays)\")\n",
    "    else:\n",
    "        if (verbose): print (\"- > pos=\"+str(x) + \" (Initial Value)\")\n",
    "\n",
    "\n",
    "    y_bin = np.random.choice([0,1],1, replace=False, p=[w,1-w])[0]\n",
    "    if (y_bin == 0):\n",
    "      y=x\n",
    "      if (verbose): print (\"- - >obs=\"+str(y) +\" (right observation)\")\n",
    "    else : \n",
    "      y = np.random.choice([i for i in range(1,N+1) if i != x])\n",
    "      if (verbose): print (\"- - >Obs=\"+str(y) + \" (wrong observation)\")\n",
    "    scenario.append((x,y)) \n",
    "  return scenario"
   ]
  },
  {
   "cell_type": "code",
   "execution_count": 312,
   "metadata": {
    "colab": {
     "base_uri": "https://localhost:8080/",
     "height": 748
    },
    "colab_type": "code",
    "id": "uZgoW0DTs9q6",
    "outputId": "2573f3d1-c83e-407b-8129-89b48d4552dc"
   },
   "outputs": [
    {
     "name": "stdout",
     "output_type": "stream",
     "text": [
      "Step : 1\n",
      "- > pos=2 (Initial Value)\n",
      "- - >obs=2 (right observation)\n",
      "Step : 2\n",
      "- > pos=2 (Stays)\n",
      "- - >Obs=10 (wrong observation)\n",
      "Step : 3\n",
      "- > pos=2 (Stays)\n",
      "- - >Obs=7 (wrong observation)\n",
      "Step : 4\n",
      "- > pos=3 (Moves)\n",
      "- - >obs=3 (right observation)\n",
      "Step : 5\n",
      "- > pos=4 (Moves)\n",
      "- - >Obs=1 (wrong observation)\n",
      "Step : 6\n",
      "- > pos=5 (Moves)\n",
      "- - >Obs=2 (wrong observation)\n",
      "Step : 7\n",
      "- > pos=6 (Moves)\n",
      "- - >obs=6 (right observation)\n",
      "Step : 8\n",
      "- > pos=7 (Moves)\n",
      "- - >Obs=5 (wrong observation)\n",
      "Step : 9\n",
      "- > pos=8 (Moves)\n",
      "- - >Obs=7 (wrong observation)\n",
      "Step : 10\n",
      "- > pos=8 (Stays)\n",
      "- - >Obs=2 (wrong observation)\n",
      "Step : 11\n",
      "- > pos=9 (Moves)\n",
      "- - >Obs=7 (wrong observation)\n",
      "Step : 12\n",
      "- > pos=10 (Moves)\n",
      "- - >Obs=1 (wrong observation)\n",
      "Step : 13\n",
      "- > pos=1 (Moves)\n",
      "- - >Obs=2 (wrong observation)\n",
      "Step : 14\n",
      "- > pos=1 (Stays)\n",
      "- - >Obs=10 (wrong observation)\n",
      "Step : 15\n",
      "- > pos=1 (Stays)\n",
      "- - >Obs=6 (wrong observation)\n"
     ]
    }
   ],
   "source": [
    "#Scenario with k=20\n",
    "scenario = gen_scenario(N = 10,epsilon = 0.3,w = 0.4,k = 15, verbose = True)"
   ]
  },
  {
   "cell_type": "code",
   "execution_count": 0,
   "metadata": {
    "colab": {},
    "colab_type": "code",
    "id": "UPusYrwetCLm"
   },
   "outputs": [],
   "source": [
    "scenario = gen_scenario(N = 10,epsilon = 0.3,w = 0.4,k = 100, verbose = False)"
   ]
  },
  {
   "cell_type": "markdown",
   "metadata": {
    "colab_type": "text",
    "id": "mDjmgpb5MaS6"
   },
   "source": [
    "## Question 5"
   ]
  },
  {
   "cell_type": "code",
   "execution_count": 0,
   "metadata": {
    "colab": {},
    "colab_type": "code",
    "id": "-LeT4c6xMdDW"
   },
   "outputs": [],
   "source": [
    "\n",
    "# We initialize the values, the parameters, the stochastic matrices and the scenario \n",
    "N   = 50\n",
    "eps = 0.3\n",
    "w   = 0.8\n",
    "k   = 100\n",
    "scenario = gen_scenario(N,eps,w,k)\n",
    "trans=transition_table(N,eps)\n",
    "gen=generative_table(N,w)\n",
    "init_prob = np.ones(N)/N"
   ]
  },
  {
   "cell_type": "code",
   "execution_count": 0,
   "metadata": {
    "colab": {},
    "colab_type": "code",
    "id": "UyqH8sSQtY5a"
   },
   "outputs": [],
   "source": [
    "def logAexp(v,A):\n",
    "  #Sum of log exp when there is a matrix A multiplying the exponential of v\n",
    "  v_max=max(v)\n",
    "  return  v_max+np.log(A @ np.exp(v - v_max))\n",
    "\n",
    "def log_alpha(l, r, scen, i_prob, t_mtx, g_mtx):\n",
    "  '''\n",
    "  This method computes the alpha_r_l given a scenario, an initial probability \n",
    "  vector, a transition matrix and an observation matrix.\n",
    "  The alpha is equivalent to p(X_r,Y_1:l) where l=r or l-1=r. \n",
    "  Output: A vector where each element i corresponds to p(X_r=i,Y_1:l)\n",
    "  '''\n",
    "  # Initial probability\n",
    "  if (r==0):\n",
    "    return np.log(init_prob)\n",
    "  # Computation of alpha_l_l. It uses alpha_l_l-1 and the row matching the Y_l\n",
    "  # observation of the observation matrix which corresponds to p(Y_l| X_l) \n",
    "  # for every x\n",
    "  elif (l == r):\n",
    "    idx = scenario[r-1][1] - 1\n",
    "    return np.log(g_mtx[idx,:]) + log_alpha(l,r-1, scen, i_prob, t_mtx, g_mtx)\n",
    "  # Computation of alpha_l_l-1. It uses alpha_l-1_l-1 and the transition matrix\n",
    "  # to compute that value for every x\n",
    "  else:\n",
    "    return logAexp(log_alpha(l-1, r, scen, i_prob, t_mtx, g_mtx),t_mtx) \n",
    "  \n",
    "def log_beta(l,r, scen, i_prob, t_mtx, g_mtx):\n",
    "  '''\n",
    "  This method computes the beta_l_r given a scenario, an initial probability \n",
    "  vector, a transition matrix and an observation matrix.\n",
    "  The beta is equivalent to p(Y_r:N,X_l) where l=r or l=r-1. \n",
    "  Output: A vector where each element i corresponds to p(Y_r:N,X_l=i)\n",
    "  '''\n",
    "  k = len(scen)\n",
    "  if (r == k+1):\n",
    "    # Initialization (log(1) = 0)\n",
    "    return np.zeros(np.shape(t_mtx)[0])\n",
    "  # Computation of beta_l_l. It uses beta_l_l+1 and the row matching the Y_l\n",
    "  # observation of the observation matrix which corresponds to p(Y_l| X_l) \n",
    "  # for every x\n",
    "  elif (l == r):\n",
    "    idx = scenario[r-1][1] - 1\n",
    "    return np.log(g_mtx[:,idx]) + log_beta(l,r+1,scen, i_prob, t_mtx, g_mtx)\n",
    "  # Computation of beta_l_l+1. It uses beta_l+1_l+1 and the transition matrix\n",
    "  # to compute that value for every x\n",
    "  else:\n",
    "    return logAexp(log_beta(l+1, r, scen, i_prob, t_mtx, g_mtx),t_mtx.T)\n",
    "  \n",
    "  \n",
    "def forward_backward(scenario, init_prob, trans_matrix, gen_matrix, t=False):\n",
    "  '''\n",
    "  This algorithm applies the forward-backward algorithm. If there is a\n",
    "  parameter time t given, it computes the probability of all the states at\n",
    "  that specific time given the observations. Otherwise, it computes that \n",
    "  probability for the current state.\n",
    "  '''\n",
    "  N = len(scenario)\n",
    "  alpha = np.exp(log_alpha(N,N,scenario,init_prob,trans_matrix,gen_matrix))\n",
    "  if not t:\n",
    "    return alpha / np.sum(alpha)\n",
    "  else:\n",
    "    alpha_log_t = log_alpha(t,t,scenario, init_prob, trans_matrix,gen_matrix)\n",
    "    bet_log  = log_beta(t, t+1, scenario, init_prob, trans_matrix, gen_matrix)\n",
    "    return np.exp(alpha_log_t + bet_log)/np.sum(alpha)\n"
   ]
  },
  {
   "cell_type": "code",
   "execution_count": 316,
   "metadata": {
    "colab": {
     "base_uri": "https://localhost:8080/",
     "height": 261
    },
    "colab_type": "code",
    "id": "E0JTe80HuB99",
    "outputId": "020213f7-3275-4b5f-f1bb-6c09aed7c1b5"
   },
   "outputs": [
    {
     "name": "stdout",
     "output_type": "stream",
     "text": [
      "Distribution of robot's current position: \n",
      " [2.03992843e-96 5.11104096e-93 2.72940965e-91 3.56569526e-89\n",
      " 3.41945732e-85 2.35323184e-79 1.18309858e-76 9.87423538e-72\n",
      " 5.31756192e-69 2.45316630e-66 1.87012724e-61 1.35231971e-59\n",
      " 4.03469577e-56 7.07724464e-49 3.64957116e-46 3.16082303e-43\n",
      " 2.75078942e-38 1.33513373e-35 5.64498755e-34 1.16761232e-32\n",
      " 1.73823483e-29 1.22101869e-28 4.95640607e-20 1.20381916e-19\n",
      " 1.04739568e-14 4.98570276e-12 2.27055010e-09 1.03311150e-06\n",
      " 9.52001101e-06 1.10778479e-03 9.93001020e-01 5.88064016e-03\n",
      " 4.31139251e-13 1.14556968e-13 1.29754076e-15 4.26417138e-22\n",
      " 4.73752243e-24 1.43152069e-30 2.20824931e-37 1.50955648e-41\n",
      " 1.58057121e-43 9.45663439e-48 5.65288668e-52 8.86699984e-61\n",
      " 2.63924393e-64 2.52173825e-65 1.47160067e-66 8.80465499e-71\n",
      " 5.26126621e-75 5.57944639e-93]\n",
      "sum(A) = 0.9999999999999999\n"
     ]
    }
   ],
   "source": [
    "A = forward_backward(scenario, init_prob, trans, gen, t=False)\n",
    "print(\"Distribution of robot's current position: \\n\",A)\n",
    "print (\"sum(A) = \" + str(np.sum(A)) )  "
   ]
  },
  {
   "cell_type": "code",
   "execution_count": 317,
   "metadata": {
    "colab": {
     "base_uri": "https://localhost:8080/",
     "height": 261
    },
    "colab_type": "code",
    "id": "Xpf9AP_kuHgw",
    "outputId": "ccbf3256-2805-4431-bcdd-fcc20c30cded"
   },
   "outputs": [
    {
     "name": "stdout",
     "output_type": "stream",
     "text": [
      "Distribution of robot's position at time= 67 : \n",
      " [1.75925860e-067 9.76879883e-062 7.23018860e-056 6.32795286e-047\n",
      " 5.37603668e-039 1.48067449e-030 2.30581617e-021 3.33754877e-012\n",
      " 2.57704826e-005 9.99974099e-001 1.30825358e-007 3.81123230e-016\n",
      " 3.05801466e-018 1.12484965e-023 3.89120136e-035 2.62263507e-042\n",
      " 6.10531778e-063 2.21750796e-072 1.11187145e-076 4.99280496e-080\n",
      " 7.70278475e-086 1.10573770e-096 1.19021474e-101 8.77165566e-112\n",
      " 1.38157930e-114 1.32086366e-118 3.69433071e-125 2.94977671e-136\n",
      " 1.58910788e-144 5.44678069e-131 3.06252061e-129 1.45651804e-127\n",
      " 7.14028586e-126 2.71186383e-124 8.37880555e-123 6.33800438e-121\n",
      " 2.22944331e-118 1.00389818e-115 8.44325391e-113 7.54486026e-109\n",
      " 2.34775948e-106 4.24491731e-102 1.53424691e-098 2.67743981e-095\n",
      " 1.47237885e-092 8.93598744e-088 2.33196973e-085 3.92546947e-083\n",
      " 1.93830400e-074 5.17797195e-070]\n",
      "sum(B) = 1.0000000000004057\n"
     ]
    }
   ],
   "source": [
    "t = 67\n",
    "B = forward_backward(scenario, init_prob, trans, gen, t=t)\n",
    "print(\"Distribution of robot's position at time=\",t,\": \\n\",B)\n",
    "print (\"sum(B) = \"+ str(np.sum(B)) )"
   ]
  },
  {
   "cell_type": "code",
   "execution_count": 318,
   "metadata": {
    "colab": {
     "base_uri": "https://localhost:8080/",
     "height": 33
    },
    "colab_type": "code",
    "id": "1-jOMSAO5obb",
    "outputId": "59f73cb9-c57c-4840-adc4-fc252fdf74c4"
   },
   "outputs": [
    {
     "name": "stdout",
     "output_type": "stream",
     "text": [
      "Most likely robot's current position:  31\n"
     ]
    }
   ],
   "source": [
    "print(\"Most likely robot's current position: \", np.argmax(A)+1)"
   ]
  },
  {
   "cell_type": "markdown",
   "metadata": {
    "colab_type": "text",
    "id": "YXjRyDSw-ywi"
   },
   "source": [
    "## Question 6 (with kidnapping)\n",
    "\n",
    "In this question , the transition matrix will depend on kappa ,thus a new transition table method will be implented. But it will be just a tweaked version of the one previously implemented.<br>\n",
    "\n",
    "The scenario will therefore slightly change when adding the required changes if the robot is kidnapped<br>\n",
    "\n",
    "Questions 4 and 5 will remain the same as the algorithm does not rely on the transition matrix (It is indeed an input).\n"
   ]
  },
  {
   "cell_type": "markdown",
   "metadata": {
    "colab_type": "text",
    "id": "YIdfdyBTO0Ox"
   },
   "source": [
    "###  Transition matrix\n",
    "$\\mathbb{P}(X_k|X_{k-1})=(1-\\kappa) \\epsilon + \\frac{\\kappa}{N}  $  is the probability to stay at the same position\n",
    "\n",
    "$\\mathbb{P}(X_{i+1}|X_i)=(1-\\kappa) (1-\\epsilon) + \\frac{\\kappa}{N}$ is the probability of moving to the next position . \n",
    "\n",
    "$\\mathbb{P}(X_{i}|X_j)=\\frac{\\kappa}{N} \\forall j \\notin \\{i,i+1\\} $  is the probability elsewhere.\n",
    "\n",
    "To verifiy  the probability,\n",
    "$$ \\sum_{i\\neq j} P(X_i|X_j) =(1-\\kappa) \\epsilon  +(1-\\kappa) (1-\\epsilon) + N * \\frac{\\kappa}{N}= 1$$\n",
    "\n",
    "Knowing the new distribution of $\\mathbb{P}(X_k|X_{k-1})$, we coded a new generator of transition matrices, where each element $T_{ij} = \\mathbb{P}(X_k = j|X_{k-1} = i)$. The elements of each column add 1. So this is a stochastic matrix."
   ]
  },
  {
   "cell_type": "code",
   "execution_count": 0,
   "metadata": {
    "colab": {},
    "colab_type": "code",
    "id": "wp5Ct9PNAXXF"
   },
   "outputs": [],
   "source": [
    "def transition_table_kidnapped(N,epsilon,kappa): \n",
    "  M=.0*np.eye(N)\n",
    "  for i in range (N):\n",
    "    for j in range (N):      \n",
    "      if (i==j): \n",
    "        M[i,j]=(1-kappa)*epsilon + kappa/N\n",
    "      elif (i == j+1 ) :\n",
    "        M[i,j] = (1-kappa)*(1-epsilon) + kappa/N\n",
    "      else : \n",
    "        M[i,j] = kappa/N \n",
    "  M[0,N-1] =(1-kappa)*(1-epsilon) + kappa/N \n",
    "  return M"
   ]
  },
  {
   "cell_type": "code",
   "execution_count": 320,
   "metadata": {
    "colab": {
     "base_uri": "https://localhost:8080/",
     "height": 180
    },
    "colab_type": "code",
    "id": "eKUKIZ6mB__d",
    "outputId": "e73c8cf5-3b60-4016-be96-0164729a3703"
   },
   "outputs": [
    {
     "data": {
      "text/plain": [
       "array([[0.22, 0.04, 0.04, 0.04, 0.04, 0.04, 0.04, 0.04, 0.04, 0.46],\n",
       "       [0.46, 0.22, 0.04, 0.04, 0.04, 0.04, 0.04, 0.04, 0.04, 0.04],\n",
       "       [0.04, 0.46, 0.22, 0.04, 0.04, 0.04, 0.04, 0.04, 0.04, 0.04],\n",
       "       [0.04, 0.04, 0.46, 0.22, 0.04, 0.04, 0.04, 0.04, 0.04, 0.04],\n",
       "       [0.04, 0.04, 0.04, 0.46, 0.22, 0.04, 0.04, 0.04, 0.04, 0.04],\n",
       "       [0.04, 0.04, 0.04, 0.04, 0.46, 0.22, 0.04, 0.04, 0.04, 0.04],\n",
       "       [0.04, 0.04, 0.04, 0.04, 0.04, 0.46, 0.22, 0.04, 0.04, 0.04],\n",
       "       [0.04, 0.04, 0.04, 0.04, 0.04, 0.04, 0.46, 0.22, 0.04, 0.04],\n",
       "       [0.04, 0.04, 0.04, 0.04, 0.04, 0.04, 0.04, 0.46, 0.22, 0.04],\n",
       "       [0.04, 0.04, 0.04, 0.04, 0.04, 0.04, 0.04, 0.04, 0.46, 0.22]])"
      ]
     },
     "execution_count": 320,
     "metadata": {
      "tags": []
     },
     "output_type": "execute_result"
    }
   ],
   "source": [
    "#example of transition matrix \n",
    "transition_table_kidnapped(10,0.3, 0.4)"
   ]
  },
  {
   "cell_type": "code",
   "execution_count": 321,
   "metadata": {
    "colab": {
     "base_uri": "https://localhost:8080/",
     "height": 33
    },
    "colab_type": "code",
    "id": "owARMe3gUTtq",
    "outputId": "881dd155-bf44-40b8-a3fe-79f464b50769"
   },
   "outputs": [
    {
     "name": "stdout",
     "output_type": "stream",
     "text": [
      "1.0\n"
     ]
    }
   ],
   "source": [
    "print (np.sum( transition_table_kidnapped(10,0.3, 0.4)[:,9] ))"
   ]
  },
  {
   "cell_type": "code",
   "execution_count": 0,
   "metadata": {
    "colab": {},
    "colab_type": "code",
    "id": "I_1vEnCrOGf7"
   },
   "outputs": [],
   "source": [
    "#we can use the same function with adding a condition about kidnapping\n",
    "def gen_scenario_kidnapped(N,epsilon,w,k,kappa, verbose = False):\n",
    "  # scenario : list to contain the (x_i,y_i) the position and the observation of every step \n",
    "  scenario = []\n",
    "  #choose randomly the first position  \n",
    "  x = np.random.randint(low=1,high = N)\n",
    "  \n",
    "  for i in range (k): \n",
    "    if (verbose): print (\"Step : \"+str(i+1))\n",
    "    if (i!= 0):\n",
    "      # kidnapped a binary variable that show if the robot is kidnapped or not \n",
    "      kidnapped = np.random.choice([0,1],1, replace=False, p=[1-kappa,kappa])[0]\n",
    "      if (kidnapped):      \n",
    "        #if kidnapped the new position will be uniformaly distributed as follows \n",
    "        x_new = np.random.randint(low=1,high = N)\n",
    "        if (verbose): print (\"kidnapped !!! to pos=\" + str(x_new))\n",
    "        x = x_new\n",
    "\n",
    "      else : \n",
    "        #if not kidnapped we use the same algorithm from question 4 \n",
    "        # x_bin is a binary variable that shows if the robot will advance or not \n",
    "        x_bin = np.random.choice([0,1],1, replace=False, p=[epsilon,1-epsilon])[0]\n",
    "        if (x_bin == 1): \n",
    "          if (x+1 >= N+1):\n",
    "            x_new = 1\n",
    "          else :\n",
    "            x_new = x+1   \n",
    "          if (verbose): print (\"- > pos=\"+str(x_new) + \" (Moves)\")\n",
    "          x = x_new\n",
    "        else :\n",
    "          if (verbose): print (\"- > pos=\"+str(x)+ \" (Stays)\")\n",
    "    else:\n",
    "      if (verbose): print (\"- > pos=\"+str(x) + \" (Initial Value)\")\n",
    "\n",
    "\n",
    "    y_bin = np.random.choice([0,1],1, replace=False, p=[w,1-w])[0]\n",
    "    if (y_bin == 0):\n",
    "      y=x\n",
    "      if (verbose): print (\"- - >obs=\"+str(y) +\" (right observation)\")\n",
    "    else : \n",
    "      y = np.random.choice([i for i in range(1,N+1) if i != x])\n",
    "      if (verbose): print (\"- - >Obs=\"+str(y) + \" (wrong observation)\")\n",
    "    scenario.append((x,y)) \n",
    "  return scenario\n",
    "\n"
   ]
  },
  {
   "cell_type": "code",
   "execution_count": 323,
   "metadata": {
    "colab": {
     "base_uri": "https://localhost:8080/",
     "height": 261
    },
    "colab_type": "code",
    "id": "r2XjfrCLQQxJ",
    "outputId": "b39f1f41-14e0-471c-8886-46414d012a7a"
   },
   "outputs": [
    {
     "name": "stdout",
     "output_type": "stream",
     "text": [
      "Step : 1\n",
      "- > pos=4 (Initial Value)\n",
      "- - >obs=4 (right observation)\n",
      "Step : 2\n",
      "kidnapped !!! to pos=8\n",
      "- - >Obs=4 (wrong observation)\n",
      "Step : 3\n",
      "- > pos=9 (Moves)\n",
      "- - >Obs=2 (wrong observation)\n",
      "Step : 4\n",
      "- > pos=9 (Stays)\n",
      "- - >Obs=5 (wrong observation)\n",
      "Step : 5\n",
      "kidnapped !!! to pos=6\n",
      "- - >Obs=1 (wrong observation)\n"
     ]
    }
   ],
   "source": [
    "#question 4 with kidnapping \n",
    "#example of scenario with kidnapping\n",
    "scenario_kidnapped = gen_scenario_kidnapped(N = 10,epsilon = 0.3,w = 0.4,k = 5,kappa=0.3, verbose = True)"
   ]
  },
  {
   "cell_type": "code",
   "execution_count": 0,
   "metadata": {
    "colab": {},
    "colab_type": "code",
    "id": "Y9YZPzb3Req-"
   },
   "outputs": [],
   "source": [
    "#question 5 we use the same function but this time we pass the new secnario and transition matrix  as parameters\n",
    "N   = 50\n",
    "eps = 0.3\n",
    "w   = 0.8\n",
    "k   = 100\n",
    "kappa = 0.1\n",
    "scenario = gen_scenario_kidnapped(N,eps,w,k,kappa )\n",
    "trans = transition_table_kidnapped(N,eps,kappa)\n",
    "gen=generative_table(N,w)\n",
    "init_prob = np.ones(N)/N"
   ]
  },
  {
   "cell_type": "code",
   "execution_count": 325,
   "metadata": {
    "colab": {
     "base_uri": "https://localhost:8080/",
     "height": 196
    },
    "colab_type": "code",
    "id": "Wpxgm5cnR5f3",
    "outputId": "4a1db50a-fc37-47ca-a858-7830602040e5"
   },
   "outputs": [
    {
     "name": "stdout",
     "output_type": "stream",
     "text": [
      "Distribution of robot's current position: \n",
      " [0.00144533 0.00144533 0.00144533 0.00144533 0.00144533 0.00144533\n",
      " 0.00144533 0.00144533 0.00144533 0.00144533 0.00144533 0.00144533\n",
      " 0.00144579 0.00186716 0.19548567 0.45192103 0.00145872 0.001446\n",
      " 0.28420686 0.00145631 0.00145387 0.00144533 0.00144533 0.00144533\n",
      " 0.00144533 0.00144533 0.00144533 0.00144533 0.00144533 0.00144533\n",
      " 0.00144533 0.00144533 0.00144533 0.00144533 0.00144533 0.00144533\n",
      " 0.00144533 0.00144533 0.00144533 0.00144533 0.00144533 0.00144533\n",
      " 0.00144533 0.00144533 0.00144533 0.00144533 0.00144533 0.00144533\n",
      " 0.00144533 0.00144533]\n",
      "sum(A) = 1.0000000000000002\n"
     ]
    }
   ],
   "source": [
    "A = forward_backward(scenario, init_prob, trans, gen, t=False)\n",
    "print(\"Distribution of robot's current position: \\n\",A)\n",
    "print (\"sum(A) = \" + str(np.sum(A)) )  "
   ]
  },
  {
   "cell_type": "code",
   "execution_count": 326,
   "metadata": {
    "colab": {
     "base_uri": "https://localhost:8080/",
     "height": 261
    },
    "colab_type": "code",
    "id": "VWJqpciuR5f_",
    "outputId": "126c823b-2752-4436-b803-5bf009335fcf"
   },
   "outputs": [
    {
     "name": "stdout",
     "output_type": "stream",
     "text": [
      "Distribution of robot's position at time= 67 : \n",
      " [1.67928666e-05 1.67928666e-05 1.67928666e-05 1.67928666e-05\n",
      " 1.67928666e-05 1.67928666e-05 1.67928666e-05 1.67928666e-05\n",
      " 1.67928666e-05 1.67928666e-05 1.67928666e-05 1.67928666e-05\n",
      " 5.25027414e-03 2.27123448e-03 2.18051425e-05 1.68358955e-05\n",
      " 1.67977067e-05 1.67929260e-05 1.67928709e-05 1.67928666e-05\n",
      " 1.67928666e-05 1.67928666e-05 1.67928666e-05 2.13626390e-05\n",
      " 2.17769268e-03 9.89402376e-01 1.68865180e-05 1.68064671e-05\n",
      " 1.67929379e-05 1.67928727e-05 1.67928666e-05 1.67928666e-05\n",
      " 1.67928666e-05 1.67928666e-05 1.67928666e-05 1.67928666e-05\n",
      " 1.67928666e-05 1.67928666e-05 1.67928666e-05 1.67928666e-05\n",
      " 1.67928666e-05 1.67928666e-05 1.67928666e-05 1.67996557e-05\n",
      " 1.99711655e-05 3.88193724e-05 6.80164389e-05 5.65684146e-05\n",
      " 1.67953041e-05 1.67928946e-05]\n",
      "sum(B) = 1.0000000000004392\n"
     ]
    }
   ],
   "source": [
    "t = 67\n",
    "B = forward_backward(scenario, init_prob, trans, gen, t=t)\n",
    "print(\"Distribution of robot's position at time=\",t,\": \\n\",B)\n",
    "print (\"sum(B) = \"+ str(np.sum(B)) )"
   ]
  },
  {
   "cell_type": "code",
   "execution_count": 327,
   "metadata": {
    "colab": {
     "base_uri": "https://localhost:8080/",
     "height": 33
    },
    "colab_type": "code",
    "id": "neUhJMqWR5gF",
    "outputId": "3da71886-570f-46c1-c0e8-544b252a45c0"
   },
   "outputs": [
    {
     "name": "stdout",
     "output_type": "stream",
     "text": [
      "Most likely robot's current position:  16\n"
     ]
    }
   ],
   "source": [
    "print(\"Most likely robot's current position: \", np.argmax(A)+1)"
   ]
  }
 ],
 "metadata": {
  "colab": {
   "collapsed_sections": [],
   "name": "TP1.ipynb",
   "provenance": []
  },
  "kernelspec": {
   "display_name": "Python 3",
   "language": "python",
   "name": "python3"
  },
  "language_info": {
   "codemirror_mode": {
    "name": "ipython",
    "version": 3
   },
   "file_extension": ".py",
   "mimetype": "text/x-python",
   "name": "python",
   "nbconvert_exporter": "python",
   "pygments_lexer": "ipython3",
   "version": "3.7.4"
  }
 },
 "nbformat": 4,
 "nbformat_minor": 1
}
